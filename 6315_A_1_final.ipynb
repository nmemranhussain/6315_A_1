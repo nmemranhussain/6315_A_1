{
 "cells": [
  {
   "cell_type": "markdown",
   "id": "0b2b216c-38d1-494d-8e8f-74970faa8666",
   "metadata": {},
   "source": [
    "# **This Assignment is done by N M Emran Hussain (GWID: 24414095)**"
   ]
  },
  {
   "cell_type": "markdown",
   "id": "j__1ZiLtX1Ju",
   "metadata": {
    "id": "j__1ZiLtX1Ju"
   },
   "source": [
    "## **DNSC6315 Assignments**\n",
    "\n",
    "We use Capital Bikeshare data for the analysis in DNSC6315 assignments."
   ]
  },
  {
   "cell_type": "markdown",
   "id": "L8IW9x_5YGkj",
   "metadata": {
    "id": "L8IW9x_5YGkj"
   },
   "source": [
    "### Read data from drive or local"
   ]
  },
  {
   "cell_type": "code",
   "execution_count": 1,
   "id": "X4MzX_C0WHiq",
   "metadata": {
    "id": "X4MzX_C0WHiq"
   },
   "outputs": [],
   "source": [
    "import pandas as pd\n",
    "# Read csv files\n",
    "\n",
    "df_Feb = pd.read_csv('202402-capitalbikeshare-tripdata.csv')\n",
    "df_Mar = pd.read_csv('202403-capitalbikeshare-tripdata.csv')\n",
    "df_Apr = pd.read_csv('202404-capitalbikeshare-tripdata.csv')\n",
    "\n",
    "# concat data\n",
    "df=pd.concat([df_Feb, df_Mar,df_Apr])"
   ]
  },
  {
   "cell_type": "code",
   "execution_count": 2,
   "id": "c4387QeZVhRb",
   "metadata": {
    "colab": {
     "base_uri": "https://localhost:8080/",
     "height": 293
    },
    "id": "c4387QeZVhRb",
    "outputId": "0b911d24-7f7c-44d7-a098-317312d0fae4"
   },
   "outputs": [
    {
     "data": {
      "text/html": [
       "<div>\n",
       "<style scoped>\n",
       "    .dataframe tbody tr th:only-of-type {\n",
       "        vertical-align: middle;\n",
       "    }\n",
       "\n",
       "    .dataframe tbody tr th {\n",
       "        vertical-align: top;\n",
       "    }\n",
       "\n",
       "    .dataframe thead th {\n",
       "        text-align: right;\n",
       "    }\n",
       "</style>\n",
       "<table border=\"1\" class=\"dataframe\">\n",
       "  <thead>\n",
       "    <tr style=\"text-align: right;\">\n",
       "      <th></th>\n",
       "      <th>ride_id</th>\n",
       "      <th>rideable_type</th>\n",
       "      <th>started_at</th>\n",
       "      <th>ended_at</th>\n",
       "      <th>start_station_name</th>\n",
       "      <th>start_station_id</th>\n",
       "      <th>end_station_name</th>\n",
       "      <th>end_station_id</th>\n",
       "      <th>start_lat</th>\n",
       "      <th>start_lng</th>\n",
       "      <th>end_lat</th>\n",
       "      <th>end_lng</th>\n",
       "      <th>member_casual</th>\n",
       "    </tr>\n",
       "  </thead>\n",
       "  <tbody>\n",
       "    <tr>\n",
       "      <th>0</th>\n",
       "      <td>24DBACC298E33BF6</td>\n",
       "      <td>electric_bike</td>\n",
       "      <td>2024-02-01 21:18:50</td>\n",
       "      <td>2024-02-01 21:27:36</td>\n",
       "      <td>Eckington Pl &amp; Q St NE</td>\n",
       "      <td>31505.0</td>\n",
       "      <td>5th &amp; K St NW</td>\n",
       "      <td>31600.0</td>\n",
       "      <td>38.910893</td>\n",
       "      <td>-77.005023</td>\n",
       "      <td>38.90304</td>\n",
       "      <td>-77.019027</td>\n",
       "      <td>member</td>\n",
       "    </tr>\n",
       "    <tr>\n",
       "      <th>1</th>\n",
       "      <td>FE1067800A18BC56</td>\n",
       "      <td>electric_bike</td>\n",
       "      <td>2024-02-06 17:15:33</td>\n",
       "      <td>2024-02-06 17:30:33</td>\n",
       "      <td>4th &amp; C St SW</td>\n",
       "      <td>31243.0</td>\n",
       "      <td>NaN</td>\n",
       "      <td>NaN</td>\n",
       "      <td>38.886443</td>\n",
       "      <td>-77.017388</td>\n",
       "      <td>38.91000</td>\n",
       "      <td>-76.980000</td>\n",
       "      <td>member</td>\n",
       "    </tr>\n",
       "    <tr>\n",
       "      <th>2</th>\n",
       "      <td>AD1962B215B5879D</td>\n",
       "      <td>electric_bike</td>\n",
       "      <td>2024-02-26 13:19:42</td>\n",
       "      <td>2024-02-26 13:30:44</td>\n",
       "      <td>North Capitol St &amp; F St NW</td>\n",
       "      <td>31624.0</td>\n",
       "      <td>NaN</td>\n",
       "      <td>NaN</td>\n",
       "      <td>38.896907</td>\n",
       "      <td>-77.009684</td>\n",
       "      <td>38.90000</td>\n",
       "      <td>-77.010000</td>\n",
       "      <td>member</td>\n",
       "    </tr>\n",
       "    <tr>\n",
       "      <th>3</th>\n",
       "      <td>3F8352E6D9EC4F85</td>\n",
       "      <td>electric_bike</td>\n",
       "      <td>2024-02-02 11:01:22</td>\n",
       "      <td>2024-02-02 11:05:14</td>\n",
       "      <td>1st &amp; K St NE</td>\n",
       "      <td>31662.0</td>\n",
       "      <td>NaN</td>\n",
       "      <td>NaN</td>\n",
       "      <td>38.902394</td>\n",
       "      <td>-77.005614</td>\n",
       "      <td>38.90000</td>\n",
       "      <td>-77.010000</td>\n",
       "      <td>member</td>\n",
       "    </tr>\n",
       "    <tr>\n",
       "      <th>4</th>\n",
       "      <td>D656DA87FA915F14</td>\n",
       "      <td>electric_bike</td>\n",
       "      <td>2024-02-25 08:28:18</td>\n",
       "      <td>2024-02-25 08:48:44</td>\n",
       "      <td>Virginia Ave &amp; 25th St NW</td>\n",
       "      <td>31297.0</td>\n",
       "      <td>NaN</td>\n",
       "      <td>NaN</td>\n",
       "      <td>38.898456</td>\n",
       "      <td>-77.053075</td>\n",
       "      <td>38.91000</td>\n",
       "      <td>-77.060000</td>\n",
       "      <td>member</td>\n",
       "    </tr>\n",
       "  </tbody>\n",
       "</table>\n",
       "</div>"
      ],
      "text/plain": [
       "            ride_id  rideable_type           started_at             ended_at  \\\n",
       "0  24DBACC298E33BF6  electric_bike  2024-02-01 21:18:50  2024-02-01 21:27:36   \n",
       "1  FE1067800A18BC56  electric_bike  2024-02-06 17:15:33  2024-02-06 17:30:33   \n",
       "2  AD1962B215B5879D  electric_bike  2024-02-26 13:19:42  2024-02-26 13:30:44   \n",
       "3  3F8352E6D9EC4F85  electric_bike  2024-02-02 11:01:22  2024-02-02 11:05:14   \n",
       "4  D656DA87FA915F14  electric_bike  2024-02-25 08:28:18  2024-02-25 08:48:44   \n",
       "\n",
       "           start_station_name  start_station_id end_station_name  \\\n",
       "0      Eckington Pl & Q St NE           31505.0    5th & K St NW   \n",
       "1               4th & C St SW           31243.0              NaN   \n",
       "2  North Capitol St & F St NW           31624.0              NaN   \n",
       "3               1st & K St NE           31662.0              NaN   \n",
       "4   Virginia Ave & 25th St NW           31297.0              NaN   \n",
       "\n",
       "   end_station_id  start_lat  start_lng   end_lat    end_lng member_casual  \n",
       "0         31600.0  38.910893 -77.005023  38.90304 -77.019027        member  \n",
       "1             NaN  38.886443 -77.017388  38.91000 -76.980000        member  \n",
       "2             NaN  38.896907 -77.009684  38.90000 -77.010000        member  \n",
       "3             NaN  38.902394 -77.005614  38.90000 -77.010000        member  \n",
       "4             NaN  38.898456 -77.053075  38.91000 -77.060000        member  "
      ]
     },
     "execution_count": 2,
     "metadata": {},
     "output_type": "execute_result"
    }
   ],
   "source": [
    "df.head()"
   ]
  },
  {
   "cell_type": "markdown",
   "id": "aVqYNoxrcbyD",
   "metadata": {
    "id": "aVqYNoxrcbyD"
   },
   "source": [
    "## Focus on GWSB Station: '22nd & H St NW'"
   ]
  },
  {
   "cell_type": "markdown",
   "id": "1520a1db",
   "metadata": {
    "id": "1520a1db"
   },
   "source": [
    "### Bike Availability: Number of Pickups"
   ]
  },
  {
   "cell_type": "code",
   "execution_count": 3,
   "id": "y3VxzXhcZn-k",
   "metadata": {
    "colab": {
     "base_uri": "https://localhost:8080/",
     "height": 489
    },
    "id": "y3VxzXhcZn-k",
    "outputId": "c09166c3-3063-421a-a92e-ff75b5c3643a"
   },
   "outputs": [
    {
     "data": {
      "text/plain": [
       "started_at_date\n",
       "2024-02-01    33\n",
       "2024-02-02    23\n",
       "2024-02-03    22\n",
       "2024-02-04    18\n",
       "2024-02-05    19\n",
       "              ..\n",
       "2024-04-26    33\n",
       "2024-04-27    18\n",
       "2024-04-28    36\n",
       "2024-04-29    37\n",
       "2024-04-30    40\n",
       "Name: started_at_date, Length: 90, dtype: int64"
      ]
     },
     "execution_count": 3,
     "metadata": {},
     "output_type": "execute_result"
    }
   ],
   "source": [
    "# Convert the 'started_at' column to datetime objects\n",
    "df['started_at_date'] = pd.to_datetime(df['started_at']).dt.date\n",
    "\n",
    "# Filter for trips started at '22nd & H St NW'\n",
    "PU_trips = df[df['start_station_name'] == '22nd & H St NW']\n",
    "\n",
    "# Group by date and count the trips\n",
    "PU_counts = PU_trips.groupby('started_at_date')['started_at_date'].count()\n",
    "\n",
    "PU_counts"
   ]
  },
  {
   "cell_type": "markdown",
   "id": "NMY1dXxqdAPt",
   "metadata": {
    "id": "NMY1dXxqdAPt"
   },
   "source": [
    "## Dock Availability: Number of Dropoffs"
   ]
  },
  {
   "cell_type": "code",
   "execution_count": 4,
   "id": "SRtAGqpCc_Wj",
   "metadata": {
    "colab": {
     "base_uri": "https://localhost:8080/",
     "height": 489
    },
    "id": "SRtAGqpCc_Wj",
    "outputId": "a206cb0f-c12e-46e0-a0a7-dce1111abbf8"
   },
   "outputs": [
    {
     "data": {
      "text/plain": [
       "ended_at_date\n",
       "2024-02-01    33\n",
       "2024-02-02    25\n",
       "2024-02-03    20\n",
       "2024-02-04    19\n",
       "2024-02-05    23\n",
       "              ..\n",
       "2024-04-26    39\n",
       "2024-04-27    24\n",
       "2024-04-28    28\n",
       "2024-04-29    38\n",
       "2024-04-30    39\n",
       "Name: ended_at_date, Length: 90, dtype: int64"
      ]
     },
     "execution_count": 4,
     "metadata": {},
     "output_type": "execute_result"
    }
   ],
   "source": [
    "# Convert the 'ended_at' column to datetime objects\n",
    "df['ended_at_date'] = pd.to_datetime(df['ended_at']).dt.date\n",
    "\n",
    "# Filter for trips ended at '22nd & H St NW'\n",
    "DO_trips = df[df['end_station_name'] == '22nd & H St NW']\n",
    "\n",
    "# Group by date and count the trips\n",
    "DO_counts = DO_trips.groupby('ended_at_date')['ended_at_date'].count()\n",
    "\n",
    "DO_counts"
   ]
  },
  {
   "cell_type": "markdown",
   "id": "3qosEW4wdVJ2",
   "metadata": {
    "id": "3qosEW4wdVJ2"
   },
   "source": [
    "## Merge PU and DO tables\n",
    "- For each day, we look at the numbers of pickups and dropoffs"
   ]
  },
  {
   "cell_type": "code",
   "execution_count": 5,
   "id": "UwgJLIMcf9SB",
   "metadata": {
    "colab": {
     "base_uri": "https://localhost:8080/",
     "height": 455
    },
    "id": "UwgJLIMcf9SB",
    "outputId": "343b5ed3-4b5f-473d-cf92-853e7ce5114d"
   },
   "outputs": [],
   "source": [
    "# merge PU_counts and DO_counts by matching the dates, and change the column names to PU_count and DO_count respectively.\n",
    "\n",
    "PU_DO_counts = pd.merge(PU_counts, DO_counts, left_index=True, right_index=True, how='outer')\n",
    "PU_DO_counts = PU_DO_counts.rename(columns={'started_at_date': 'PU_ct', 'ended_at_date': 'DO_ct'})\n",
    "\n",
    "# change the index name from 'started_at' to 'date'\n",
    "\n",
    "PU_DO_counts = PU_DO_counts.rename_axis('date')\n",
    "PU_DO_counts\n",
    "PU_DO_counts.to_excel('PU_DO_counts.xlsx', index=False)"
   ]
  },
  {
   "cell_type": "markdown",
   "id": "cbb1a6e3",
   "metadata": {
    "id": "cbb1a6e3"
   },
   "source": [
    "# Feature Information: Weather Data\n",
    "- From https://www.visualcrossing.com/weather-history/"
   ]
  },
  {
   "cell_type": "code",
   "execution_count": 6,
   "id": "91178cea",
   "metadata": {
    "colab": {
     "base_uri": "https://localhost:8080/",
     "height": 429
    },
    "id": "91178cea",
    "outputId": "cdfc84cd-5f3f-4a91-8775-3b14a98d00f0"
   },
   "outputs": [
    {
     "data": {
      "text/html": [
       "<div>\n",
       "<style scoped>\n",
       "    .dataframe tbody tr th:only-of-type {\n",
       "        vertical-align: middle;\n",
       "    }\n",
       "\n",
       "    .dataframe tbody tr th {\n",
       "        vertical-align: top;\n",
       "    }\n",
       "\n",
       "    .dataframe thead th {\n",
       "        text-align: right;\n",
       "    }\n",
       "</style>\n",
       "<table border=\"1\" class=\"dataframe\">\n",
       "  <thead>\n",
       "    <tr style=\"text-align: right;\">\n",
       "      <th></th>\n",
       "      <th>name</th>\n",
       "      <th>datetime</th>\n",
       "      <th>tempmax</th>\n",
       "      <th>tempmin</th>\n",
       "      <th>temp</th>\n",
       "      <th>feelslikemax</th>\n",
       "      <th>feelslikemin</th>\n",
       "      <th>feelslike</th>\n",
       "      <th>dew</th>\n",
       "      <th>humidity</th>\n",
       "      <th>...</th>\n",
       "      <th>solarenergy</th>\n",
       "      <th>uvindex</th>\n",
       "      <th>severerisk</th>\n",
       "      <th>sunrise</th>\n",
       "      <th>sunset</th>\n",
       "      <th>moonphase</th>\n",
       "      <th>conditions</th>\n",
       "      <th>description</th>\n",
       "      <th>icon</th>\n",
       "      <th>stations</th>\n",
       "    </tr>\n",
       "  </thead>\n",
       "  <tbody>\n",
       "    <tr>\n",
       "      <th>0</th>\n",
       "      <td>washington, dc</td>\n",
       "      <td>2024-01-01</td>\n",
       "      <td>43.0</td>\n",
       "      <td>38.9</td>\n",
       "      <td>40.8</td>\n",
       "      <td>41.8</td>\n",
       "      <td>31.4</td>\n",
       "      <td>36.4</td>\n",
       "      <td>33.3</td>\n",
       "      <td>74.7</td>\n",
       "      <td>...</td>\n",
       "      <td>0.9</td>\n",
       "      <td>1</td>\n",
       "      <td>10</td>\n",
       "      <td>2024-01-01T07:26:50</td>\n",
       "      <td>2024-01-01T16:56:30</td>\n",
       "      <td>0.68</td>\n",
       "      <td>Overcast</td>\n",
       "      <td>Cloudy skies throughout the day.</td>\n",
       "      <td>cloudy</td>\n",
       "      <td>KDCA,72405013743,D6279,72403793728,KADW,KDAA,7...</td>\n",
       "    </tr>\n",
       "    <tr>\n",
       "      <th>1</th>\n",
       "      <td>washington, dc</td>\n",
       "      <td>2024-01-02</td>\n",
       "      <td>45.9</td>\n",
       "      <td>35.7</td>\n",
       "      <td>40.4</td>\n",
       "      <td>40.9</td>\n",
       "      <td>27.2</td>\n",
       "      <td>33.8</td>\n",
       "      <td>26.2</td>\n",
       "      <td>57.3</td>\n",
       "      <td>...</td>\n",
       "      <td>8.3</td>\n",
       "      <td>5</td>\n",
       "      <td>10</td>\n",
       "      <td>2024-01-02T07:26:58</td>\n",
       "      <td>2024-01-02T16:57:20</td>\n",
       "      <td>0.72</td>\n",
       "      <td>Partially cloudy</td>\n",
       "      <td>Partly cloudy throughout the day.</td>\n",
       "      <td>partly-cloudy-day</td>\n",
       "      <td>KDCA,72405013743,D6279,72403793728,KADW,KDAA,7...</td>\n",
       "    </tr>\n",
       "    <tr>\n",
       "      <th>2</th>\n",
       "      <td>washington, dc</td>\n",
       "      <td>2024-01-03</td>\n",
       "      <td>47.8</td>\n",
       "      <td>33.7</td>\n",
       "      <td>39.9</td>\n",
       "      <td>44.6</td>\n",
       "      <td>27.8</td>\n",
       "      <td>36.4</td>\n",
       "      <td>26.6</td>\n",
       "      <td>59.5</td>\n",
       "      <td>...</td>\n",
       "      <td>9.6</td>\n",
       "      <td>5</td>\n",
       "      <td>10</td>\n",
       "      <td>2024-01-03T07:27:04</td>\n",
       "      <td>2024-01-03T16:58:10</td>\n",
       "      <td>0.75</td>\n",
       "      <td>Partially cloudy</td>\n",
       "      <td>Partly cloudy throughout the day.</td>\n",
       "      <td>partly-cloudy-day</td>\n",
       "      <td>C6294,KDCA,72405013743,D6279,72403793728,KADW,...</td>\n",
       "    </tr>\n",
       "    <tr>\n",
       "      <th>3</th>\n",
       "      <td>washington, dc</td>\n",
       "      <td>2024-01-04</td>\n",
       "      <td>46.7</td>\n",
       "      <td>33.2</td>\n",
       "      <td>40.4</td>\n",
       "      <td>41.9</td>\n",
       "      <td>24.1</td>\n",
       "      <td>34.6</td>\n",
       "      <td>25.2</td>\n",
       "      <td>55.2</td>\n",
       "      <td>...</td>\n",
       "      <td>4.8</td>\n",
       "      <td>4</td>\n",
       "      <td>10</td>\n",
       "      <td>2024-01-04T07:27:07</td>\n",
       "      <td>2024-01-04T16:59:02</td>\n",
       "      <td>0.78</td>\n",
       "      <td>Partially cloudy</td>\n",
       "      <td>Partly cloudy throughout the day.</td>\n",
       "      <td>partly-cloudy-day</td>\n",
       "      <td>C6294,KDCA,72405013743,72403793728,KADW,KDAA,7...</td>\n",
       "    </tr>\n",
       "    <tr>\n",
       "      <th>4</th>\n",
       "      <td>washington, dc</td>\n",
       "      <td>2024-01-05</td>\n",
       "      <td>39.9</td>\n",
       "      <td>27.8</td>\n",
       "      <td>33.6</td>\n",
       "      <td>35.8</td>\n",
       "      <td>19.4</td>\n",
       "      <td>28.0</td>\n",
       "      <td>18.9</td>\n",
       "      <td>55.0</td>\n",
       "      <td>...</td>\n",
       "      <td>11.6</td>\n",
       "      <td>5</td>\n",
       "      <td>10</td>\n",
       "      <td>2024-01-05T07:27:09</td>\n",
       "      <td>2024-01-05T16:59:55</td>\n",
       "      <td>0.81</td>\n",
       "      <td>Partially cloudy</td>\n",
       "      <td>Partly cloudy throughout the day.</td>\n",
       "      <td>partly-cloudy-day</td>\n",
       "      <td>C6294,KDCA,72405013743,72403793728,D6279,KADW,...</td>\n",
       "    </tr>\n",
       "  </tbody>\n",
       "</table>\n",
       "<p>5 rows × 33 columns</p>\n",
       "</div>"
      ],
      "text/plain": [
       "             name    datetime  tempmax  tempmin  temp  feelslikemax  \\\n",
       "0  washington, dc  2024-01-01     43.0     38.9  40.8          41.8   \n",
       "1  washington, dc  2024-01-02     45.9     35.7  40.4          40.9   \n",
       "2  washington, dc  2024-01-03     47.8     33.7  39.9          44.6   \n",
       "3  washington, dc  2024-01-04     46.7     33.2  40.4          41.9   \n",
       "4  washington, dc  2024-01-05     39.9     27.8  33.6          35.8   \n",
       "\n",
       "   feelslikemin  feelslike   dew  humidity  ...  solarenergy  uvindex  \\\n",
       "0          31.4       36.4  33.3      74.7  ...          0.9        1   \n",
       "1          27.2       33.8  26.2      57.3  ...          8.3        5   \n",
       "2          27.8       36.4  26.6      59.5  ...          9.6        5   \n",
       "3          24.1       34.6  25.2      55.2  ...          4.8        4   \n",
       "4          19.4       28.0  18.9      55.0  ...         11.6        5   \n",
       "\n",
       "   severerisk              sunrise               sunset  moonphase  \\\n",
       "0          10  2024-01-01T07:26:50  2024-01-01T16:56:30       0.68   \n",
       "1          10  2024-01-02T07:26:58  2024-01-02T16:57:20       0.72   \n",
       "2          10  2024-01-03T07:27:04  2024-01-03T16:58:10       0.75   \n",
       "3          10  2024-01-04T07:27:07  2024-01-04T16:59:02       0.78   \n",
       "4          10  2024-01-05T07:27:09  2024-01-05T16:59:55       0.81   \n",
       "\n",
       "         conditions                        description               icon  \\\n",
       "0          Overcast   Cloudy skies throughout the day.             cloudy   \n",
       "1  Partially cloudy  Partly cloudy throughout the day.  partly-cloudy-day   \n",
       "2  Partially cloudy  Partly cloudy throughout the day.  partly-cloudy-day   \n",
       "3  Partially cloudy  Partly cloudy throughout the day.  partly-cloudy-day   \n",
       "4  Partially cloudy  Partly cloudy throughout the day.  partly-cloudy-day   \n",
       "\n",
       "                                            stations  \n",
       "0  KDCA,72405013743,D6279,72403793728,KADW,KDAA,7...  \n",
       "1  KDCA,72405013743,D6279,72403793728,KADW,KDAA,7...  \n",
       "2  C6294,KDCA,72405013743,D6279,72403793728,KADW,...  \n",
       "3  C6294,KDCA,72405013743,72403793728,KADW,KDAA,7...  \n",
       "4  C6294,KDCA,72405013743,72403793728,D6279,KADW,...  \n",
       "\n",
       "[5 rows x 33 columns]"
      ]
     },
     "execution_count": 6,
     "metadata": {},
     "output_type": "execute_result"
    }
   ],
   "source": [
    "df_weather = pd.read_csv('DC_weather_2024.csv')\n",
    "\n",
    "df_weather.head()"
   ]
  },
  {
   "cell_type": "markdown",
   "id": "94f6001e",
   "metadata": {
    "id": "94f6001e"
   },
   "source": [
    "## Drop variables of your choice"
   ]
  },
  {
   "cell_type": "code",
   "execution_count": 7,
   "id": "82a937c9",
   "metadata": {
    "id": "82a937c9"
   },
   "outputs": [],
   "source": [
    "# Drop unnecessary variables\n",
    "df_weather=df_weather.drop(columns=['name', 'stations','description','sunrise','sunset','conditions','severerisk','preciptype','windgust'])"
   ]
  },
  {
   "cell_type": "markdown",
   "id": "a28e9ce3",
   "metadata": {
    "id": "a28e9ce3"
   },
   "source": [
    "## Prepare X and y: Merge df_weather with PU_DO_counts"
   ]
  },
  {
   "cell_type": "code",
   "execution_count": 8,
   "id": "LceO3zBEq0-q",
   "metadata": {
    "id": "LceO3zBEq0-q"
   },
   "outputs": [],
   "source": [
    "# Convert the 'datetime' column to datetime objects and extract the date\n",
    "df_weather['datetime'] = pd.to_datetime(df_weather['datetime'])\n",
    "df_weather['date'] = df_weather['datetime'].dt.date\n",
    "\n",
    "# Merge the two dataframes based on the 'date' column\n",
    "merged_df = pd.merge(PU_DO_counts, df_weather, on='date', how='left')"
   ]
  },
  {
   "cell_type": "markdown",
   "id": "7ef1734d",
   "metadata": {
    "id": "7ef1734d"
   },
   "source": [
    "# Prepare training and test data"
   ]
  },
  {
   "cell_type": "code",
   "execution_count": 9,
   "id": "0217869f",
   "metadata": {
    "colab": {
     "base_uri": "https://localhost:8080/",
     "height": 423
    },
    "id": "0217869f",
    "outputId": "2ae960e9-b57c-40c7-e59b-753c9e353eff"
   },
   "outputs": [
    {
     "data": {
      "text/html": [
       "<div>\n",
       "<style scoped>\n",
       "    .dataframe tbody tr th:only-of-type {\n",
       "        vertical-align: middle;\n",
       "    }\n",
       "\n",
       "    .dataframe tbody tr th {\n",
       "        vertical-align: top;\n",
       "    }\n",
       "\n",
       "    .dataframe thead th {\n",
       "        text-align: right;\n",
       "    }\n",
       "</style>\n",
       "<table border=\"1\" class=\"dataframe\">\n",
       "  <thead>\n",
       "    <tr style=\"text-align: right;\">\n",
       "      <th></th>\n",
       "      <th>temp</th>\n",
       "      <th>precip</th>\n",
       "      <th>windspeed</th>\n",
       "      <th>uvindex</th>\n",
       "      <th>icon</th>\n",
       "    </tr>\n",
       "  </thead>\n",
       "  <tbody>\n",
       "    <tr>\n",
       "      <th>0</th>\n",
       "      <td>42.4</td>\n",
       "      <td>0.000</td>\n",
       "      <td>12.0</td>\n",
       "      <td>5</td>\n",
       "      <td>partly-cloudy-day</td>\n",
       "    </tr>\n",
       "    <tr>\n",
       "      <th>1</th>\n",
       "      <td>47.1</td>\n",
       "      <td>0.012</td>\n",
       "      <td>19.1</td>\n",
       "      <td>2</td>\n",
       "      <td>rain</td>\n",
       "    </tr>\n",
       "    <tr>\n",
       "      <th>2</th>\n",
       "      <td>42.2</td>\n",
       "      <td>0.000</td>\n",
       "      <td>14.7</td>\n",
       "      <td>6</td>\n",
       "      <td>clear-day</td>\n",
       "    </tr>\n",
       "    <tr>\n",
       "      <th>3</th>\n",
       "      <td>41.7</td>\n",
       "      <td>0.000</td>\n",
       "      <td>9.2</td>\n",
       "      <td>6</td>\n",
       "      <td>clear-day</td>\n",
       "    </tr>\n",
       "    <tr>\n",
       "      <th>4</th>\n",
       "      <td>41.0</td>\n",
       "      <td>0.000</td>\n",
       "      <td>12.2</td>\n",
       "      <td>6</td>\n",
       "      <td>partly-cloudy-day</td>\n",
       "    </tr>\n",
       "    <tr>\n",
       "      <th>...</th>\n",
       "      <td>...</td>\n",
       "      <td>...</td>\n",
       "      <td>...</td>\n",
       "      <td>...</td>\n",
       "      <td>...</td>\n",
       "    </tr>\n",
       "    <tr>\n",
       "      <th>85</th>\n",
       "      <td>55.2</td>\n",
       "      <td>0.000</td>\n",
       "      <td>15.4</td>\n",
       "      <td>9</td>\n",
       "      <td>partly-cloudy-day</td>\n",
       "    </tr>\n",
       "    <tr>\n",
       "      <th>86</th>\n",
       "      <td>55.7</td>\n",
       "      <td>0.032</td>\n",
       "      <td>10.0</td>\n",
       "      <td>2</td>\n",
       "      <td>rain</td>\n",
       "    </tr>\n",
       "    <tr>\n",
       "      <th>87</th>\n",
       "      <td>67.0</td>\n",
       "      <td>0.000</td>\n",
       "      <td>10.0</td>\n",
       "      <td>9</td>\n",
       "      <td>partly-cloudy-day</td>\n",
       "    </tr>\n",
       "    <tr>\n",
       "      <th>88</th>\n",
       "      <td>75.2</td>\n",
       "      <td>0.000</td>\n",
       "      <td>13.0</td>\n",
       "      <td>9</td>\n",
       "      <td>partly-cloudy-day</td>\n",
       "    </tr>\n",
       "    <tr>\n",
       "      <th>89</th>\n",
       "      <td>73.9</td>\n",
       "      <td>0.000</td>\n",
       "      <td>15.5</td>\n",
       "      <td>10</td>\n",
       "      <td>partly-cloudy-day</td>\n",
       "    </tr>\n",
       "  </tbody>\n",
       "</table>\n",
       "<p>90 rows × 5 columns</p>\n",
       "</div>"
      ],
      "text/plain": [
       "    temp  precip  windspeed  uvindex               icon\n",
       "0   42.4   0.000       12.0        5  partly-cloudy-day\n",
       "1   47.1   0.012       19.1        2               rain\n",
       "2   42.2   0.000       14.7        6          clear-day\n",
       "3   41.7   0.000        9.2        6          clear-day\n",
       "4   41.0   0.000       12.2        6  partly-cloudy-day\n",
       "..   ...     ...        ...      ...                ...\n",
       "85  55.2   0.000       15.4        9  partly-cloudy-day\n",
       "86  55.7   0.032       10.0        2               rain\n",
       "87  67.0   0.000       10.0        9  partly-cloudy-day\n",
       "88  75.2   0.000       13.0        9  partly-cloudy-day\n",
       "89  73.9   0.000       15.5       10  partly-cloudy-day\n",
       "\n",
       "[90 rows x 5 columns]"
      ]
     },
     "execution_count": 9,
     "metadata": {},
     "output_type": "execute_result"
    }
   ],
   "source": [
    "# we have two target variables: PU_ct and DO_ct\n",
    "y = merged_df[['PU_ct','DO_ct']]\n",
    "X = merged_df[['temp','precip','windspeed','uvindex','icon']]\n",
    "X"
   ]
  },
  {
   "cell_type": "markdown",
   "id": "5fviKOAlyhoW",
   "metadata": {
    "id": "5fviKOAlyhoW"
   },
   "source": [
    "## <font color=\"red\"> Important: train_test_split with y=['PU_ct','DO_ct']. Why? <font>"
   ]
  },
  {
   "cell_type": "code",
   "execution_count": 15,
   "id": "5fcef27b",
   "metadata": {
    "id": "5fcef27b"
   },
   "outputs": [],
   "source": [
    "from sklearn.model_selection import train_test_split\n",
    "\n",
    "X_train,X_test, y_train,y_test = train_test_split(X,y, test_size=0.4, random_state = 200) # 40% test data"
   ]
  },
  {
   "cell_type": "markdown",
   "id": "Cm3JSn4w2SmI",
   "metadata": {
    "id": "Cm3JSn4w2SmI"
   },
   "source": [
    "# **Assignment 1: Classification Tree and Performance Evaluation**\n",
    "\n",
    "### As we discussed in class, our intuition is to allocate more bikes if PU_ct > DO_ct; and less bikes if PU_ct < DO_ct. Thus, in this assignment, we want to predict whether PU_ct > DO_ct. We first create a new target variable to indicate whether PU_ct > DO_ct."
   ]
  },
  {
   "cell_type": "markdown",
   "id": "sK2H2W8g1lWv",
   "metadata": {
    "id": "sK2H2W8g1lWv"
   },
   "source": [
    "## <font color=\"red\"> Additional Preprocessing Steps <font>\n",
    "\n",
    "### Create categorical target variable 'Which_High' with classes {'PU_High','DO_High'}"
   ]
  },
  {
   "cell_type": "code",
   "execution_count": 16,
   "id": "kdDUyQIpp5K5",
   "metadata": {
    "id": "kdDUyQIpp5K5"
   },
   "outputs": [],
   "source": [
    "# create a new variable to indicate if PU_ct > DO_ct in y_train and y_test\n",
    "# create 'Which_High' with classes in string for plot_tree\n",
    "\n",
    "y_train['PU_gt_DO'] = y_train['PU_ct'] > y_train['DO_ct']\n",
    "y_train['Which_High'] = y_train['PU_gt_DO'].map({True: 'PU_High', False: 'DO_High'})\n",
    "\n",
    "y_test['PU_gt_DO'] = y_test['PU_ct'] > y_test['DO_ct']\n",
    "y_test['Which_High']=y_test['PU_gt_DO'].map({True: 'PU_High', False: 'DO_High'})\n"
   ]
  },
  {
   "cell_type": "markdown",
   "id": "iBpPRkLKsmZk",
   "metadata": {
    "id": "iBpPRkLKsmZk"
   },
   "source": [
    "### Dummy encoding of categorical feature 'icon' before training"
   ]
  },
  {
   "cell_type": "code",
   "execution_count": 17,
   "id": "Ur-h62Scsg2G",
   "metadata": {
    "id": "Ur-h62Scsg2G"
   },
   "outputs": [],
   "source": [
    "# get dummies in X_train_PU\n",
    "X_train = pd.get_dummies(X_train, columns=['icon'], prefix='icon',drop_first=True)\n",
    "# get dummies in X_test_PU\n",
    "X_test = pd.get_dummies(X_test, columns=['icon'], prefix='icon',drop_first=True)\n",
    "\n",
    "# Ensure both training and testing sets have the same columns\n",
    "X_test = X_test.reindex(columns=X_train.columns, fill_value=0)"
   ]
  },
  {
   "cell_type": "code",
   "execution_count": 18,
   "id": "-S7kHIjVtBGh",
   "metadata": {
    "colab": {
     "base_uri": "https://localhost:8080/",
     "height": 206
    },
    "id": "-S7kHIjVtBGh",
    "outputId": "3ce1c866-6326-4185-8ff8-ef4ff4501a5e"
   },
   "outputs": [
    {
     "data": {
      "text/html": [
       "<div>\n",
       "<style scoped>\n",
       "    .dataframe tbody tr th:only-of-type {\n",
       "        vertical-align: middle;\n",
       "    }\n",
       "\n",
       "    .dataframe tbody tr th {\n",
       "        vertical-align: top;\n",
       "    }\n",
       "\n",
       "    .dataframe thead th {\n",
       "        text-align: right;\n",
       "    }\n",
       "</style>\n",
       "<table border=\"1\" class=\"dataframe\">\n",
       "  <thead>\n",
       "    <tr style=\"text-align: right;\">\n",
       "      <th></th>\n",
       "      <th>temp</th>\n",
       "      <th>precip</th>\n",
       "      <th>windspeed</th>\n",
       "      <th>uvindex</th>\n",
       "      <th>icon_partly-cloudy-day</th>\n",
       "      <th>icon_rain</th>\n",
       "      <th>icon_snow</th>\n",
       "    </tr>\n",
       "  </thead>\n",
       "  <tbody>\n",
       "    <tr>\n",
       "      <th>73</th>\n",
       "      <td>66.0</td>\n",
       "      <td>0.000</td>\n",
       "      <td>22.5</td>\n",
       "      <td>8</td>\n",
       "      <td>True</td>\n",
       "      <td>False</td>\n",
       "      <td>False</td>\n",
       "    </tr>\n",
       "    <tr>\n",
       "      <th>60</th>\n",
       "      <td>53.9</td>\n",
       "      <td>0.235</td>\n",
       "      <td>13.1</td>\n",
       "      <td>4</td>\n",
       "      <td>False</td>\n",
       "      <td>True</td>\n",
       "      <td>False</td>\n",
       "    </tr>\n",
       "    <tr>\n",
       "      <th>18</th>\n",
       "      <td>41.1</td>\n",
       "      <td>0.000</td>\n",
       "      <td>11.2</td>\n",
       "      <td>7</td>\n",
       "      <td>False</td>\n",
       "      <td>False</td>\n",
       "      <td>False</td>\n",
       "    </tr>\n",
       "    <tr>\n",
       "      <th>44</th>\n",
       "      <td>56.6</td>\n",
       "      <td>0.000</td>\n",
       "      <td>18.8</td>\n",
       "      <td>8</td>\n",
       "      <td>True</td>\n",
       "      <td>False</td>\n",
       "      <td>False</td>\n",
       "    </tr>\n",
       "    <tr>\n",
       "      <th>4</th>\n",
       "      <td>41.0</td>\n",
       "      <td>0.000</td>\n",
       "      <td>12.2</td>\n",
       "      <td>6</td>\n",
       "      <td>True</td>\n",
       "      <td>False</td>\n",
       "      <td>False</td>\n",
       "    </tr>\n",
       "  </tbody>\n",
       "</table>\n",
       "</div>"
      ],
      "text/plain": [
       "    temp  precip  windspeed  uvindex  icon_partly-cloudy-day  icon_rain  \\\n",
       "73  66.0   0.000       22.5        8                    True      False   \n",
       "60  53.9   0.235       13.1        4                   False       True   \n",
       "18  41.1   0.000       11.2        7                   False      False   \n",
       "44  56.6   0.000       18.8        8                    True      False   \n",
       "4   41.0   0.000       12.2        6                    True      False   \n",
       "\n",
       "    icon_snow  \n",
       "73      False  \n",
       "60      False  \n",
       "18      False  \n",
       "44      False  \n",
       "4       False  "
      ]
     },
     "execution_count": 18,
     "metadata": {},
     "output_type": "execute_result"
    }
   ],
   "source": [
    "X_train.head()"
   ]
  },
  {
   "cell_type": "markdown",
   "id": "sCuCU3hzpVdM",
   "metadata": {
    "id": "sCuCU3hzpVdM"
   },
   "source": [
    "## <font color=\"red\"> Task 1: </font> Train and visualize a classification tree with max_depth=3 for predicting 'Which_High' using 'entropy' as the criterion. [10 pts]"
   ]
  },
  {
   "cell_type": "markdown",
   "id": "f7616d86-5c71-4709-8fa1-33d2581a3f0b",
   "metadata": {},
   "source": [
    "This Python code snippet uses the **DecisionTreeClassifier** from the **sklearn.tree** module to construct and visualize a decision tree for classification purposes. Initially, a decision tree classifier (dtc) is created with a maximum depth of 3 levels and uses the 'entropy' criterion for making splits, which aims to maximize information gain at each node. This classifier is then trained on a dataset (**X_train**, **y_train**) where **X_train** contains the feature variables and **y_train['Which_High']** contains the target class labels. Once trained, the classifier (**dtc_model**) is visualized using **matplotlib** and **plot_tree**. The tree visualization is configured to display with a figure size of 16x12 inches and includes descriptive labels for branches and nodes using feature names (fn) from **X_train** and class names (cn) derived from the model. The **filled = True** and **proportion=True** options color the nodes to reflect the majority class and show the proportion of samples in each leaf, respectively, enhancing interpretability of the tree structure."
   ]
  },
  {
   "cell_type": "code",
   "execution_count": 19,
   "id": "25d100a9-e03a-4c4b-a02c-673f55048efe",
   "metadata": {
    "id": "25d100a9-e03a-4c4b-a02c-673f55048efe",
    "outputId": "75ec3bd5-e0db-411b-dd76-51c01188f063"
   },
   "outputs": [
    {
     "data": {
      "image/png": "[encoded data removed]",
      "text/plain": [
       "<Figure size 1600x1200 with 1 Axes>"
      ]
     },
     "metadata": {},
     "output_type": "display_data"
    }
   ],
   "source": [
    "from sklearn.tree import DecisionTreeClassifier\n",
    "\n",
    "# set max_depth\n",
    "dtc = DecisionTreeClassifier(max_depth=3, criterion='entropy')\n",
    "dtc_model=dtc.fit(X_train,y_train['Which_High'])\n",
    "\n",
    "# Visualize classification tree\n",
    "import matplotlib.pyplot as plt\n",
    "from sklearn.tree import plot_tree\n",
    "fn = list(X_train.columns) # specify feature names\n",
    "cn = dtc_model.classes_ # specify class names\n",
    "plt.figure(figsize = (16,12))\n",
    "plt.title('Decision Tree (max_depth=3)')\n",
    "plot_tree(dtc_model, feature_names = fn, class_names = cn, filled = True, proportion=True);"
   ]
  },
  {
   "cell_type": "markdown",
   "id": "vBdJnd7DucWN",
   "metadata": {
    "id": "vBdJnd7DucWN"
   },
   "source": [
    "## <font color=\"red\"> Task 2: </font> Pick the first sample in the test data and report its estimated probability of 'PU_High'. [10pts]"
   ]
  },
  {
   "cell_type": "markdown",
   "id": "ebef4795-49a2-400d-a75b-5ebdb03db4b9",
   "metadata": {},
   "source": [
    "In this code snippet, the trained decision tree classifier (**dtc_model**) is used to predict the class probabilities for a single instance from the **test dataset (X_test)**. Specifically, **predict_proba** is called on the first row of **X_test (X_test.iloc[[0]])**, which returns an array of probabilities corresponding to each class that the classifier can predict. The array **y_prob** holds these probabilities, and the result is printed out to show the likelihood of each class for the given instance. Following this, the code extracts and prints the probability of the specific class labeled 'PU_High', which is represented by the second element of the array **(y_prob[0][1])**. This value indicates the estimated probability that the first instance of **X_test** belongs to the 'PU_High' class according to the decision tree model."
   ]
  },
  {
   "cell_type": "code",
   "execution_count": 20,
   "id": "zSxp5HIJZe8C",
   "metadata": {
    "id": "zSxp5HIJZe8C",
    "outputId": "dcd03c1f-9020-41c8-9bdc-8264a40fef44"
   },
   "outputs": [
    {
     "name": "stdout",
     "output_type": "stream",
     "text": [
      "[[0.8 0.2]]\n",
      "0.2\n"
     ]
    }
   ],
   "source": [
    "# The class probabilies\n",
    "y_prob = dtc_model.predict_proba(X_test.iloc[[0]])\n",
    "print(y_prob)\n",
    "\n",
    "# Estimated probability of 'PU_High'\n",
    "y_prob_PU_High = y_prob[0][1]\n",
    "print(y_prob_PU_High)"
   ]
  },
  {
   "cell_type": "markdown",
   "id": "71ALvUI6tq5s",
   "metadata": {
    "id": "71ALvUI6tq5s"
   },
   "source": [
    "## <font color=\"red\"> Task 3: </font> Report the classification tree model's plain accuracy in the test data. [10pts]"
   ]
  },
  {
   "cell_type": "markdown",
   "id": "a22f9b4c-7b8f-4e72-9671-8bf2e9183735",
   "metadata": {},
   "source": [
    "This code evaluates the performance of the trained decision tree classifier **(dtc_model)** on the test dataset **(X_test)**. It begins by predicting the target class labels **(y_pred)** for all instances in **X_test** using the predict method of the classifier. Following this, it assesses the accuracy of these predictions by comparing them to the actual target labels found in **y_test['Which_High']** using the **accuracy_score** function from the **sklearn.metrics** module. The accuracy score is then printed, which quantifies the proportion of correct predictions made by the classifier. This metric provides a straightforward indication of how well the decision tree model is performing, with a higher score indicating better performance. The accuracy score is a commonly used metric to evaluate the effectiveness of classification models, especially for balanced datasets."
   ]
  },
  {
   "cell_type": "code",
   "execution_count": 21,
   "id": "1aZ6naUqZf39",
   "metadata": {
    "id": "1aZ6naUqZf39",
    "outputId": "9fca1a94-f751-4e51-9ee2-832693d9fa7c"
   },
   "outputs": [
    {
     "name": "stdout",
     "output_type": "stream",
     "text": [
      "Plain accuracy of Classification Tree:  0.5277777777777778\n"
     ]
    }
   ],
   "source": [
    "from sklearn.metrics import accuracy_score\n",
    "# Evaluate in the test data\n",
    "y_pred = dtc_model.predict(X_test)\n",
    "print(\"Plain accuracy of Classification Tree: \",accuracy_score(y_test['Which_High'], y_pred))"
   ]
  },
  {
   "cell_type": "markdown",
   "id": "DZQOJctaxie8",
   "metadata": {
    "id": "DZQOJctaxie8"
   },
   "source": [
    "## <font color=\"red\"> Task 4: </font> Show the confusion matrix of this classification tree in the test data [10 pts]"
   ]
  },
  {
   "cell_type": "markdown",
   "id": "893b1ae7-9e01-41f6-a72f-705898ae3ad1",
   "metadata": {},
   "source": [
    "This code snippet is focused on visualizing the performance of a decision tree classifier **(dtc_model)** using a confusion matrix, which provides a detailed breakdown of prediction results on the test dataset **(X_test)**. Initially, predictions are made for the test data using the predict method, storing the results in **y_pred**. The **confusion_matrix** function from **sklearn.metrics** is then used to generate the confusion matrix (**cm**) by comparing these **predictions (y_pred)** with the actual **target labels (y_test['Which_High'])**. This matrix is a two-dimensional array where each row represents the instances in an actual class while each column represents the instances in a predicted class.\n",
    "\n",
    "The matrix is visualized using the **seaborn** library's **heatmap** function. Aesthetically, it uses the **Blues** color map and displays actual numbers of predictions (**fmt=\"d\"**) within each cell of the grid. Labels for the axes are set—**xticklabels** and **yticklabels** are labeled with the class names (cn), representing the predicted and actual class labels, respectively. The labels on the x-axis indicate **Predicted** class outcomes, while the y-axis labels denote **True** class outcomes. A title is added, and the figure size is set to ensure the heatmap is clearly readable. This visualization effectively illustrates where the model is making correct predictions as well as where it is erring, offering insights into the types and frequencies of these errors, which is critical for refining model performance."
   ]
  },
  {
   "cell_type": "code",
   "execution_count": 22,
   "id": "PYWDhWKIZhAF",
   "metadata": {
    "id": "PYWDhWKIZhAF",
    "outputId": "0eb1d774-3a3c-4a2b-d4cd-62958d8b04d4"
   },
   "outputs": [
    {
     "data": {
      "image/png": "[encoded data removed]",
      "text/plain": [
       "<Figure size 1000x700 with 2 Axes>"
      ]
     },
     "metadata": {},
     "output_type": "display_data"
    }
   ],
   "source": [
    "from sklearn.metrics import confusion_matrix\n",
    "import seaborn as sns\n",
    "\n",
    "# Predict the test set\n",
    "y_pred = dtc_model.predict(X_test)\n",
    "\n",
    "# Generate the confusion matrix\n",
    "cm = confusion_matrix(y_test['Which_High'], y_pred)\n",
    "\n",
    "# Visualize the confusion matrix\n",
    "plt.figure(figsize=(10,7))\n",
    "sns.heatmap(cm, annot=True, fmt=\"d\", cmap='Blues', xticklabels=cn, yticklabels=cn)\n",
    "plt.xlabel('Predicted')\n",
    "plt.ylabel('True')\n",
    "plt.title('Confusion Matrix')\n",
    "plt.show()\n"
   ]
  },
  {
   "cell_type": "markdown",
   "id": "hsDuy5lIycjh",
   "metadata": {
    "id": "hsDuy5lIycjh"
   },
   "source": [
    "## <font color=\"red\"> Task 5: </font> Suppose we are interested in the class of 'DO_High' (i.e., we call it 'positive'). What are the true positive rate and the false positive rate of this classification tree? [10 pts]"
   ]
  },
  {
   "cell_type": "markdown",
   "id": "4b76d291-77de-4782-8d34-e2114c750600",
   "metadata": {},
   "source": [
    "This code snippet extends the evaluation of a decision tree classifier (**dtc_model**) by delving deeper into its predictive accuracy, focusing specifically on the classification of the **'DO_High'** class. After making predictions **y_pred** for the test dataset **X_test**, it constructs a **confusion matrix (cm)** using **confusion_matrix**, specifying that the rows and columns of the matrix should correspond to the classifier's known classes (**dtc_model.classes_**).\n",
    "\n",
    "The code identifies the matrix index corresponding to the 'DO_High' class and uses this index to calculate various metrics: True Positives (TP, correctly predicted positive cases), False Negatives (FN, positive cases incorrectly predicted as negative), True Negatives (TN, correctly predicted negative cases for all classes except 'DO_High'), and False Positives (FP, negative cases incorrectly predicted as positive). These counts are used to compute the True Positive Rate (TPR, also known as sensitivity or recall) and the False Positive Rate (FPR). These rates are important metrics in evaluating a classifier's performance, particularly its ability to correctly identify positive instances and its propensity to incorrectly label negative instances as positive. The computed TPR and FPR are then printed, offering a clear view of the model's effectiveness and its potential biases in predicting the 'DO_High' class. This analysis is crucial for understanding the model's predictive dynamics and for identifying areas where the model might need improvement, especially in handling specific classes."
   ]
  },
  {
   "cell_type": "code",
   "execution_count": 23,
   "id": "ehsRkqVfZiAa",
   "metadata": {
    "id": "ehsRkqVfZiAa",
    "outputId": "dcaaf82d-85f2-49ba-e49b-660003be92ab"
   },
   "outputs": [
    {
     "name": "stdout",
     "output_type": "stream",
     "text": [
      "True Positive Rate (Sensitivity, Recall): 0.55\n",
      "False Positive Rate: 0.5\n"
     ]
    }
   ],
   "source": [
    "from sklearn.metrics import confusion_matrix\n",
    "import seaborn as sns\n",
    "\n",
    "# Predict the test set\n",
    "y_pred = dtc_model.predict(X_test)\n",
    "\n",
    "# Generate the confusion matrix\n",
    "cm = confusion_matrix(y_test['Which_High'], y_pred, labels=dtc_model.classes_)\n",
    "\n",
    "# Identify the index for 'DO_High'\n",
    "positive_class_index = list(dtc_model.classes_).index('DO_High')\n",
    "\n",
    "# True Positive (TP): Correct positive predictions\n",
    "TP = cm[positive_class_index, positive_class_index]\n",
    "\n",
    "# False Negative (FN): Incorrect negative predictions\n",
    "FN = sum(cm[positive_class_index, :]) - TP\n",
    "\n",
    "# True Negative (TN): Correct negative predictions\n",
    "TN = sum(cm.diagonal()) - TP\n",
    "\n",
    "# False Positive (FP): Incorrect positive predictions\n",
    "FP = sum(cm[:, positive_class_index]) - TP\n",
    "\n",
    "# Calculate True Positive Rate (TPR) and False Positive Rate (FPR)\n",
    "TPR = TP / (TP + FN) if (TP + FN) != 0 else 0\n",
    "FPR = FP / (FP + TN) if (FP + TN) != 0 else 0\n",
    "\n",
    "# Output TPR and FPR\n",
    "print(\"True Positive Rate (Sensitivity, Recall):\", TPR)\n",
    "print(\"False Positive Rate:\", FPR)\n"
   ]
  },
  {
   "cell_type": "markdown",
   "id": "O3Aq99-rz87X",
   "metadata": {
    "id": "O3Aq99-rz87X"
   },
   "source": [
    "## <font color=\"red\"> Task 6: </font> Follow the sample code in 'Lec 2 ClassificationPerformance', compare the following methods by AUC evaluated under 5-fold cross-validation. [20 pts]\n",
    "- Linear SVM, i.e., SVC(kernel = 'linear')\n",
    "- KNN with K=10\n",
    "- DecisionTreeClassifier(max_depth=3,criterion = 'entropy', random_state=0)\n"
   ]
  },
  {
   "cell_type": "markdown",
   "id": "99f0e92b-5862-45b3-98a1-febcb4d296df",
   "metadata": {},
   "source": [
    "This Python script performs model evaluation on a classification problem using multiple machine learning algorithms. Specifically, it initializes three classifiers—Linear SVM, K-Nearest Neighbors (KNN), and Decision Tree—and evaluates their performance using 5-fold cross-validation. For each model, it calculates two metrics: accuracy and ROC AUC score (Area Under the Receiver Operating Characteristic Curve). These metrics are computed using cross-validation on the training data (X_train and y_train), with accuracy measuring overall correctness and ROC AUC capturing the model's ability to distinguish between classes for the target PU_gt_DO. The results—mean and standard deviation for both metrics—are stored in a DataFrame called model_results, which is then sorted by the average AUC score to identify the best-performing model in terms of class separation. The code helps compare model effectiveness in a systematic and statistically sound manner."
   ]
  },
  {
   "cell_type": "code",
   "execution_count": 29,
   "id": "7ed20fc3-2448-4412-b675-c9f43ce70704",
   "metadata": {},
   "outputs": [
    {
     "data": {
      "text/html": [
       "<div>\n",
       "<style scoped>\n",
       "    .dataframe tbody tr th:only-of-type {\n",
       "        vertical-align: middle;\n",
       "    }\n",
       "\n",
       "    .dataframe tbody tr th {\n",
       "        vertical-align: top;\n",
       "    }\n",
       "\n",
       "    .dataframe thead th {\n",
       "        text-align: right;\n",
       "    }\n",
       "</style>\n",
       "<table border=\"1\" class=\"dataframe\">\n",
       "  <thead>\n",
       "    <tr style=\"text-align: right;\">\n",
       "      <th></th>\n",
       "      <th>Algorithm</th>\n",
       "      <th>AUC Mean</th>\n",
       "      <th>AUC STD</th>\n",
       "      <th>Accuracy Mean</th>\n",
       "      <th>Accuracy STD</th>\n",
       "    </tr>\n",
       "  </thead>\n",
       "  <tbody>\n",
       "    <tr>\n",
       "      <th>0</th>\n",
       "      <td>Linear SVM</td>\n",
       "      <td>56.35</td>\n",
       "      <td>15.23</td>\n",
       "      <td>54.00</td>\n",
       "      <td>12.11</td>\n",
       "    </tr>\n",
       "    <tr>\n",
       "      <th>2</th>\n",
       "      <td>Decision Tree Classifier</td>\n",
       "      <td>41.43</td>\n",
       "      <td>15.39</td>\n",
       "      <td>59.45</td>\n",
       "      <td>6.34</td>\n",
       "    </tr>\n",
       "    <tr>\n",
       "      <th>1</th>\n",
       "      <td>KNN</td>\n",
       "      <td>39.67</td>\n",
       "      <td>11.47</td>\n",
       "      <td>52.00</td>\n",
       "      <td>5.70</td>\n",
       "    </tr>\n",
       "  </tbody>\n",
       "</table>\n",
       "</div>"
      ],
      "text/plain": [
       "                  Algorithm  AUC Mean  AUC STD  Accuracy Mean  Accuracy STD\n",
       "0                Linear SVM     56.35    15.23          54.00         12.11\n",
       "2  Decision Tree Classifier     41.43    15.39          59.45          6.34\n",
       "1                       KNN     39.67    11.47          52.00          5.70"
      ]
     },
     "execution_count": 29,
     "metadata": {},
     "output_type": "execute_result"
    }
   ],
   "source": [
    "from sklearn.linear_model import LogisticRegression\n",
    "from sklearn.svm import SVC\n",
    "from sklearn.neighbors import KNeighborsClassifier\n",
    "from sklearn.tree import DecisionTreeClassifier\n",
    "from sklearn.ensemble import RandomForestClassifier\n",
    "from sklearn.naive_bayes import GaussianNB\n",
    "import pandas as pd\n",
    "from sklearn.model_selection import cross_val_score\n",
    "from sklearn.model_selection import GridSearchCV\n",
    "from sklearn.model_selection import KFold\n",
    "from sklearn import feature_selection\n",
    "from sklearn import model_selection\n",
    "from sklearn import metrics\n",
    "from sklearn.metrics import auc, roc_auc_score, roc_curve\n",
    "\n",
    "import warnings\n",
    "warnings.simplefilter(\"ignore\")\n",
    "\n",
    "# Initialize classifiers in consideration\n",
    "models = []\n",
    "models.append(('Linear SVM', SVC(kernel='linear', probability=True)))\n",
    "models.append(('KNN', KNeighborsClassifier(n_neighbors = 10)))\n",
    "models.append(('Decision Tree Classifier', DecisionTreeClassifier(max_depth=3, criterion = 'entropy', random_state=0)))\n",
    "\n",
    "#Evaluating Model Results:\n",
    "acc_results = []\n",
    "auc_results = []\n",
    "names = []\n",
    "# set table to table to populate with performance results\n",
    "col = ['Algorithm', 'AUC Mean', 'AUC STD', 'Accuracy Mean', 'Accuracy STD']\n",
    "model_results = pd.DataFrame(columns=col)\n",
    "\n",
    "# Evaluate each model using k-fold cross-validation:\n",
    "i = 0\n",
    "for name, model in models:\n",
    "    kfold = model_selection.KFold(n_splits=5)\n",
    "    # accuracy scoring:\n",
    "    cv_acc_results = model_selection.cross_val_score(model, X_train, y_train['Which_High'], cv=kfold, scoring='accuracy')\n",
    "    # roc_auc scoring:\n",
    "    cv_auc_results = model_selection.cross_val_score(model, X_train, y_train['PU_gt_DO'], cv=kfold, scoring='roc_auc')\n",
    "    acc_results.append(cv_acc_results)\n",
    "    auc_results.append(cv_auc_results)\n",
    "    names.append(name)\n",
    "    model_results.loc[i] = [name,\n",
    "                         round(cv_auc_results.mean()*100, 2),\n",
    "                         round(cv_auc_results.std()*100, 2),\n",
    "                         round(cv_acc_results.mean()*100, 2),\n",
    "                         round(cv_acc_results.std()*100, 2)\n",
    "                         ]\n",
    "    i += 1\n",
    "\n",
    "model_results.sort_values(by=['AUC Mean'], ascending=False)"
   ]
  },
  {
   "cell_type": "markdown",
   "id": "78827652-de8b-48f4-a8f6-0c9b4553e0b5",
   "metadata": {},
   "source": [
    "#### Alternatively"
   ]
  },
  {
   "cell_type": "markdown",
   "id": "87847999-ad79-4f21-9f93-40bb52ee7fd9",
   "metadata": {},
   "source": [
    "This Python code performs a comparative evaluation of three different classification models on a training dataset, focusing on their ability to distinguish between two classes using Area Under the Curve (AUC) as the metric, calculated through 5-fold cross-validation. Initially, the target variable (y_train['Which_High']) is converted to a binary format where 'DO_High' is encoded as 0 and 'PU_High' as 1, which simplifies the classification problem into a binary format necessary for AUC calculation.\n",
    "\n",
    "The models compared include a linear Support Vector Machine (SVM) with a linear kernel, a K-Nearest Neighbors (KNN) classifier with 𝑘 = 10, and a Decision Tree classifier with a maximum depth of 3 and using the entropy criterion. Each model is set up with a consistent random_state where applicable to ensure reproducibility of results.\n",
    "\n",
    "The cross_val_score function from sklearn.model_selection is employed to conduct the 5-fold cross-validation for each model, specifying 'roc_auc' as the scoring parameter to compute the AUC, which measures the model's ability to discriminate between the two classes. AUC is a robust metric as it considers all possible classification thresholds.\n",
    "\n",
    "The results, including the mean and the standard deviation of the AUC scores from the 5-fold cross-validation, are printed for each model. This output provides an insight into the average performance and the variability of performance across different folds for each classifier, assisting in assessing which model performs best at distinguishing between 'DO_High' and 'PU_High' under the given setup."
   ]
  },
  {
   "cell_type": "code",
   "execution_count": 24,
   "id": "7o0bsRK-Zjah",
   "metadata": {
    "id": "7o0bsRK-Zjah"
   },
   "outputs": [
    {
     "name": "stdout",
     "output_type": "stream",
     "text": [
      "AUC Scores (5-Fold CV):\n",
      "Linear SVM: 0.5286 (±0.0942)\n",
      "KNN (K=10): 0.3342 (±0.1839)\n",
      "Decision Tree: 0.5256 (±0.2337)\n"
     ]
    }
   ],
   "source": [
    "from sklearn.model_selection import cross_val_score\n",
    "from sklearn.svm import SVC\n",
    "from sklearn.neighbors import KNeighborsClassifier\n",
    "import numpy as np\n",
    "\n",
    "# Convert target to binary (0=DO_High, 1=PU_High)\n",
    "y_train_binary = (y_train['Which_High'] == 'PU_High').astype(int)\n",
    "\n",
    "# Define models to compare\n",
    "models = {\n",
    "    \"Linear SVM\": SVC(kernel='linear', probability=True, random_state=0),\n",
    "    \"KNN (K=10)\": KNeighborsClassifier(n_neighbors=10),\n",
    "    \"Decision Tree\": DecisionTreeClassifier(max_depth=3, criterion='entropy', random_state=0)\n",
    "}\n",
    "\n",
    "# Evaluate each model using 5-fold cross-validation (AUC)\n",
    "print(\"AUC Scores (5-Fold CV):\")\n",
    "for name, model in models.items():\n",
    "    scores = cross_val_score(\n",
    "        model,\n",
    "        X_train,\n",
    "        y_train_binary,\n",
    "        cv=5, # 5 fold\n",
    "        scoring='roc_auc'\n",
    "    )\n",
    "    print(f\"{name}: {np.mean(scores):.4f} (±{np.std(scores):.4f})\")"
   ]
  },
  {
   "cell_type": "markdown",
   "id": "dHseveGM015Q",
   "metadata": {
    "id": "dHseveGM015Q"
   },
   "source": [
    "## <font color=\"red\"> Task 7: </font> After selecting the best model, report its final out-of-sample performance measured by AUC. [10 pts]"
   ]
  },
  {
   "cell_type": "markdown",
   "id": "30252bab-6feb-405d-87c0-c87d496f8c94",
   "metadata": {},
   "source": [
    "This Python code segment is focused on training and evaluating a Linear Support Vector Machine (SVM) model, with a particular emphasis on its ability to distinguish between two classes, specifically whether or not the target class is 'PU_High'. The **SVC** class from **sklearn.svm** is used to instantiate a model with a linear kernel, probability estimation enabled, and a fixed random state for reproducibility. The model, referred to as **best_model**, is trained on the entire training dataset (**X_train, y_train_binary**), where **y_train_binary** appears to be a binary representation of the classes, but the code to create it from **y_train** is not shown here.\n",
    "\n",
    "For evaluation, the test set is transformed into a binary format (y_test_binary) where instances of 'PU_High' are marked as 1, and all other instances as 0. The **predict_proba** method of the trained model is used to predict the probability that each test instance falls into the 'PU_High' category. These probabilities are then used to compute the Area Under the **Receiver Operating Characteristic Curve (AUC)** using the **roc_auc_score** from **sklearn.metrics**. AUC is a performance metric that measures the ability of a classifier to discriminate between the classes at various threshold settings. The higher the AUC, the better the model is at predicting 'PU_High' as compared to not-'PU_High'. The computed AUC score is printed, giving a concise and informative measure of the model's predictive quality in the context of its ability to handle the class 'PU_High'. This evaluation step is crucial for assessing the overall effectiveness of the SVM model in binary classification tasks, especially in applications where class imbalance might be a concern."
   ]
  },
  {
   "cell_type": "code",
   "execution_count": 20,
   "id": "8qz6ieevZmtd",
   "metadata": {
    "id": "8qz6ieevZmtd"
   },
   "outputs": [
    {
     "name": "stdout",
     "output_type": "stream",
     "text": [
      "\n",
      "Test AUC (Best Model - Linear SVM): 0.6125\n"
     ]
    }
   ],
   "source": [
    "from sklearn.metrics import roc_auc_score\n",
    "\n",
    "# Train the best model (Linear SVM) on full training data\n",
    "best_model = SVC(kernel='linear', probability=True, random_state=0)\n",
    "best_model.fit(X_train, y_train_binary)\n",
    "\n",
    "# Predict probabilities on test data\n",
    "y_test_binary = (y_test['Which_High'] == 'PU_High').astype(int)\n",
    "y_proba = best_model.predict_proba(X_test)[:, 1]  # Probability of PU_High\n",
    "\n",
    "# Calculate AUC\n",
    "auc_score = roc_auc_score(y_test_binary, y_proba)\n",
    "print(f\"\\nTest AUC (Best Model - Linear SVM): {auc_score:.4f}\")"
   ]
  }
 ],
 "metadata": {
  "colab": {
   "provenance": []
  },
  "kernelspec": {
   "display_name": "Python 3 (ipykernel)",
   "language": "python",
   "name": "python3"
  },
  "language_info": {
   "codemirror_mode": {
    "name": "ipython",
    "version": 3
   },
   "file_extension": ".py",
   "mimetype": "text/x-python",
   "name": "python",
   "nbconvert_exporter": "python",
   "pygments_lexer": "ipython3",
   "version": "3.12.7"
  }
 },
 "nbformat": 4,
 "nbformat_minor": 5
}
